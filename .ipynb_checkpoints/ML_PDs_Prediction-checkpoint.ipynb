{
 "cells": [
  {
   "cell_type": "markdown",
   "id": "5d76c3f1",
   "metadata": {},
   "source": [
    "#  Data Science Competition :  Predicting Probability of Default\n",
    "\n",
    "### Problem Statements\n",
    "\n",
    "Financial institutions face significant risks due to loan defaults. Accurately predicting the \n",
    "probability of default (PD) on loans is critical for risk management and strategic planning. In this \n",
    "competition, participants are tasked with developing a predictive model that estimates the \n",
    "probability of default on loans using historical loan data."
   ]
  },
  {
   "cell_type": "markdown",
   "id": "b8c1ed80",
   "metadata": {},
   "source": [
    "### Import Python libraries"
   ]
  },
  {
   "cell_type": "code",
   "execution_count": 1,
   "id": "65dab31b",
   "metadata": {},
   "outputs": [],
   "source": [
    "import numpy as np\n",
    "import matplotlib.pyplot as plt\n",
    "import pandas as pd\n",
    "import seaborn as sns\n",
    "import pandas as pd\n",
    "import plotly.express as px\n",
    "\n",
    "\n",
    "from sklearn.preprocessing import LabelEncoder\n",
    "from sklearn import metrics\n",
    "from sklearn.preprocessing import label_binarize \n",
    "from sklearn.preprocessing import StandardScaler\n",
    "from sklearn.impute import SimpleImputer\n",
    "from datetime import datetime, date\n",
    "\n",
    "from sklearn.model_selection import train_test_split\n",
    "from sklearn.linear_model import LogisticRegression\n",
    "from sklearn.ensemble import RandomForestClassifier\n",
    "from sklearn.discriminant_analysis import LinearDiscriminantAnalysis\n",
    "from sklearn.ensemble import GradientBoostingClassifier\n",
    "from sklearn.tree import DecisionTreeClassifier\n",
    "#Import SVM and KNN\n",
    "\n",
    "from sklearn.linear_model import LinearRegression\n",
    "from sklearn.svm import SVC\n",
    "from sklearn.metrics import roc_curve, accuracy_score, roc_auc_score, classification_report, confusion_matrix\n",
    "import matplotlib.pyplot as plt\n",
    "from sklearn.metrics import roc_curve, auc\n",
    "from IPython.display import display\n",
    "from sklearn.decomposition import PCA\n",
    "from sklearn.calibration import calibration_curve, CalibratedClassifierCV\n",
    "\n",
    "pd.options.display.max_columns=None"
   ]
  },
  {
   "cell_type": "markdown",
   "id": "425c87cd",
   "metadata": {},
   "source": [
    "### Importing the required dataset"
   ]
  },
  {
   "cell_type": "code",
   "execution_count": 2,
   "id": "0d4072bc",
   "metadata": {},
   "outputs": [],
   "source": [
    "data = pd.read_csv('C:/Users/ntumbare/Desktop/Data_Science/data_science_competition_2024.csv') \n",
    "data = pd.DataFrame(data)"
   ]
  },
  {
   "cell_type": "markdown",
   "id": "2efc4766",
   "metadata": {},
   "source": [
    "### View the first lines of the dataset"
   ]
  },
  {
   "cell_type": "code",
   "execution_count": 3,
   "id": "155cc3d2",
   "metadata": {},
   "outputs": [
    {
     "data": {
      "text/html": [
       "<div>\n",
       "<style scoped>\n",
       "    .dataframe tbody tr th:only-of-type {\n",
       "        vertical-align: middle;\n",
       "    }\n",
       "\n",
       "    .dataframe tbody tr th {\n",
       "        vertical-align: top;\n",
       "    }\n",
       "\n",
       "    .dataframe thead th {\n",
       "        text-align: right;\n",
       "    }\n",
       "</style>\n",
       "<table border=\"1\" class=\"dataframe\">\n",
       "  <thead>\n",
       "    <tr style=\"text-align: right;\">\n",
       "      <th></th>\n",
       "      <th>Unnamed: 0</th>\n",
       "      <th>loan_id</th>\n",
       "      <th>gender</th>\n",
       "      <th>disbursemet_date</th>\n",
       "      <th>currency</th>\n",
       "      <th>country</th>\n",
       "      <th>sex</th>\n",
       "      <th>is_employed</th>\n",
       "      <th>job</th>\n",
       "      <th>location</th>\n",
       "      <th>loan_amount</th>\n",
       "      <th>number_of_defaults</th>\n",
       "      <th>outstanding_balance</th>\n",
       "      <th>interest_rate</th>\n",
       "      <th>age</th>\n",
       "      <th>number_of_defaults.1</th>\n",
       "      <th>remaining term</th>\n",
       "      <th>salary</th>\n",
       "      <th>marital_status</th>\n",
       "      <th>age.1</th>\n",
       "      <th>Loan Status</th>\n",
       "    </tr>\n",
       "  </thead>\n",
       "  <tbody>\n",
       "    <tr>\n",
       "      <th>0</th>\n",
       "      <td>0</td>\n",
       "      <td>8d05de78-ff32-46b1-aeb5-b3190f9c158a</td>\n",
       "      <td>female</td>\n",
       "      <td>2022 10 29</td>\n",
       "      <td>USD</td>\n",
       "      <td>Zimbabwe</td>\n",
       "      <td>female</td>\n",
       "      <td>True</td>\n",
       "      <td>Teacher</td>\n",
       "      <td>Beitbridge</td>\n",
       "      <td>39000</td>\n",
       "      <td>0</td>\n",
       "      <td>48653.01147</td>\n",
       "      <td>0.22</td>\n",
       "      <td>37</td>\n",
       "      <td>0</td>\n",
       "      <td>47</td>\n",
       "      <td>3230.038869</td>\n",
       "      <td>married</td>\n",
       "      <td>37</td>\n",
       "      <td>Did not default</td>\n",
       "    </tr>\n",
       "    <tr>\n",
       "      <th>1</th>\n",
       "      <td>1</td>\n",
       "      <td>368bf756-fcf2-4822-9612-f445d90b485b</td>\n",
       "      <td>other</td>\n",
       "      <td>2020 06 06</td>\n",
       "      <td>USD</td>\n",
       "      <td>Zimbabwe</td>\n",
       "      <td>other</td>\n",
       "      <td>True</td>\n",
       "      <td>Teacher</td>\n",
       "      <td>Harare</td>\n",
       "      <td>27000</td>\n",
       "      <td>2</td>\n",
       "      <td>28752.06224</td>\n",
       "      <td>0.20</td>\n",
       "      <td>43</td>\n",
       "      <td>2</td>\n",
       "      <td>62</td>\n",
       "      <td>3194.139103</td>\n",
       "      <td>single</td>\n",
       "      <td>43</td>\n",
       "      <td>Did not default</td>\n",
       "    </tr>\n",
       "    <tr>\n",
       "      <th>2</th>\n",
       "      <td>2</td>\n",
       "      <td>6e3be39e-49b5-45b5-aab6-c6556de53c6f</td>\n",
       "      <td>other</td>\n",
       "      <td>2023 09 29</td>\n",
       "      <td>USD</td>\n",
       "      <td>Zimbabwe</td>\n",
       "      <td>other</td>\n",
       "      <td>True</td>\n",
       "      <td>Nurse</td>\n",
       "      <td>Gweru</td>\n",
       "      <td>35000</td>\n",
       "      <td>1</td>\n",
       "      <td>44797.55413</td>\n",
       "      <td>0.22</td>\n",
       "      <td>43</td>\n",
       "      <td>1</td>\n",
       "      <td>57</td>\n",
       "      <td>3330.826656</td>\n",
       "      <td>married</td>\n",
       "      <td>43</td>\n",
       "      <td>Did not default</td>\n",
       "    </tr>\n",
       "    <tr>\n",
       "      <th>3</th>\n",
       "      <td>3</td>\n",
       "      <td>191c62f8-2211-49fe-ba91-43556b307871</td>\n",
       "      <td>female</td>\n",
       "      <td>2022 06 22</td>\n",
       "      <td>USD</td>\n",
       "      <td>Zimbabwe</td>\n",
       "      <td>female</td>\n",
       "      <td>True</td>\n",
       "      <td>Doctor</td>\n",
       "      <td>Rusape</td>\n",
       "      <td>24000</td>\n",
       "      <td>0</td>\n",
       "      <td>35681.49641</td>\n",
       "      <td>0.23</td>\n",
       "      <td>47</td>\n",
       "      <td>0</td>\n",
       "      <td>42</td>\n",
       "      <td>2246.797020</td>\n",
       "      <td>divorced</td>\n",
       "      <td>47</td>\n",
       "      <td>Did not default</td>\n",
       "    </tr>\n",
       "    <tr>\n",
       "      <th>4</th>\n",
       "      <td>4</td>\n",
       "      <td>477cd8a1-3b01-4623-9318-8cd6122a8346</td>\n",
       "      <td>male</td>\n",
       "      <td>2023 02 08</td>\n",
       "      <td>USD</td>\n",
       "      <td>Zimbabwe</td>\n",
       "      <td>male</td>\n",
       "      <td>True</td>\n",
       "      <td>Nurse</td>\n",
       "      <td>Chipinge</td>\n",
       "      <td>19000</td>\n",
       "      <td>0</td>\n",
       "      <td>34156.05588</td>\n",
       "      <td>0.20</td>\n",
       "      <td>42</td>\n",
       "      <td>0</td>\n",
       "      <td>45</td>\n",
       "      <td>2310.858441</td>\n",
       "      <td>married</td>\n",
       "      <td>42</td>\n",
       "      <td>Did not default</td>\n",
       "    </tr>\n",
       "  </tbody>\n",
       "</table>\n",
       "</div>"
      ],
      "text/plain": [
       "   Unnamed: 0                               loan_id  gender disbursemet_date  \\\n",
       "0           0  8d05de78-ff32-46b1-aeb5-b3190f9c158a  female       2022 10 29   \n",
       "1           1  368bf756-fcf2-4822-9612-f445d90b485b   other       2020 06 06   \n",
       "2           2  6e3be39e-49b5-45b5-aab6-c6556de53c6f   other       2023 09 29   \n",
       "3           3  191c62f8-2211-49fe-ba91-43556b307871  female       2022 06 22   \n",
       "4           4  477cd8a1-3b01-4623-9318-8cd6122a8346    male       2023 02 08   \n",
       "\n",
       "  currency   country     sex  is_employed      job    location  loan_amount  \\\n",
       "0      USD  Zimbabwe  female         True  Teacher  Beitbridge        39000   \n",
       "1      USD  Zimbabwe   other         True  Teacher      Harare        27000   \n",
       "2      USD  Zimbabwe   other         True    Nurse       Gweru        35000   \n",
       "3      USD  Zimbabwe  female         True   Doctor      Rusape        24000   \n",
       "4      USD  Zimbabwe    male         True    Nurse    Chipinge        19000   \n",
       "\n",
       "   number_of_defaults  outstanding_balance  interest_rate  age  \\\n",
       "0                   0          48653.01147           0.22   37   \n",
       "1                   2          28752.06224           0.20   43   \n",
       "2                   1          44797.55413           0.22   43   \n",
       "3                   0          35681.49641           0.23   47   \n",
       "4                   0          34156.05588           0.20   42   \n",
       "\n",
       "   number_of_defaults.1 remaining term       salary marital_status  age.1  \\\n",
       "0                     0             47  3230.038869        married     37   \n",
       "1                     2             62  3194.139103         single     43   \n",
       "2                     1             57  3330.826656        married     43   \n",
       "3                     0             42  2246.797020       divorced     47   \n",
       "4                     0             45  2310.858441        married     42   \n",
       "\n",
       "       Loan Status  \n",
       "0  Did not default  \n",
       "1  Did not default  \n",
       "2  Did not default  \n",
       "3  Did not default  \n",
       "4  Did not default  "
      ]
     },
     "execution_count": 3,
     "metadata": {},
     "output_type": "execute_result"
    }
   ],
   "source": [
    "data.head()"
   ]
  },
  {
   "cell_type": "markdown",
   "id": "236c644c",
   "metadata": {},
   "source": [
    "### View a list of all the variables in the data\n",
    "The list printed helps in identifying repeated variables e.g number_of_defaults, age <br />\n",
    "Before looking at the descriptive statistics of this data, we need to clean it first i.e droping repeated variables and dropping unneccesary variables such as loan_IDs. <br />\n",
    "\n",
    "- Irrelevant to the Task: <br />\n",
    "Unique identifiers, like a row number or customer ID, usually do not contain any useful information for the machine learning task at hand. These columns do not provide any predictive power, and including them can actually hurt the model's performance by introducing unnecessary noise."
   ]
  },
  {
   "cell_type": "code",
   "execution_count": 4,
   "id": "e695125e",
   "metadata": {
    "scrolled": false
   },
   "outputs": [
    {
     "name": "stdout",
     "output_type": "stream",
     "text": [
      "List of Variables in Dataset:\n",
      "-----------------------------\n",
      "- Unnamed: 0\n",
      "- loan_id\n",
      "- gender\n",
      "- disbursemet_date\n",
      "- currency\n",
      "- country\n",
      "- sex\n",
      "- is_employed\n",
      "- job\n",
      "- location\n",
      "- loan_amount\n",
      "- number_of_defaults\n",
      "- outstanding_balance\n",
      "- interest_rate\n",
      "- age\n",
      "- number_of_defaults.1\n",
      "- remaining term\n",
      "- salary\n",
      "- marital_status\n",
      "- age.1\n",
      "- Loan Status\n"
     ]
    }
   ],
   "source": [
    "columns = data.columns\n",
    "\n",
    "print('List of Variables in Dataset:')\n",
    "print('-----------------------------')\n",
    "for column in columns:\n",
    "    print(f'- {column}')\n",
    "\n"
   ]
  },
  {
   "cell_type": "markdown",
   "id": "14ec48d7",
   "metadata": {},
   "source": [
    "### Shows count of rows and columns of the data"
   ]
  },
  {
   "cell_type": "code",
   "execution_count": 5,
   "id": "191a8379",
   "metadata": {},
   "outputs": [
    {
     "data": {
      "text/plain": [
       "(100000, 21)"
      ]
     },
     "execution_count": 5,
     "metadata": {},
     "output_type": "execute_result"
    }
   ],
   "source": [
    "data.shape"
   ]
  },
  {
   "cell_type": "markdown",
   "id": "409080d6",
   "metadata": {},
   "source": [
    "### Looking at the data type of the variables in the data\n",
    "This helps to identify missing data within the variables given that the shape of this data is 100,000 yet some variables have less than that number i.e. country, job, location."
   ]
  },
  {
   "cell_type": "code",
   "execution_count": 6,
   "id": "82644a3e",
   "metadata": {
    "scrolled": false
   },
   "outputs": [
    {
     "name": "stdout",
     "output_type": "stream",
     "text": [
      "<class 'pandas.core.frame.DataFrame'>\n",
      "RangeIndex: 100000 entries, 0 to 99999\n",
      "Data columns (total 21 columns):\n",
      " #   Column                Non-Null Count   Dtype  \n",
      "---  ------                --------------   -----  \n",
      " 0   Unnamed: 0            100000 non-null  int64  \n",
      " 1   loan_id               100000 non-null  object \n",
      " 2   gender                100000 non-null  object \n",
      " 3   disbursemet_date      100000 non-null  object \n",
      " 4   currency              100000 non-null  object \n",
      " 5   country               99900 non-null   object \n",
      " 6   sex                   100000 non-null  object \n",
      " 7   is_employed           100000 non-null  bool   \n",
      " 8   job                   95864 non-null   object \n",
      " 9   location              99405 non-null   object \n",
      " 10  loan_amount           100000 non-null  int64  \n",
      " 11  number_of_defaults    100000 non-null  int64  \n",
      " 12  outstanding_balance   100000 non-null  float64\n",
      " 13  interest_rate         100000 non-null  float64\n",
      " 14  age                   100000 non-null  int64  \n",
      " 15  number_of_defaults.1  100000 non-null  int64  \n",
      " 16  remaining term        100000 non-null  object \n",
      " 17  salary                100000 non-null  float64\n",
      " 18  marital_status        100000 non-null  object \n",
      " 19  age.1                 100000 non-null  int64  \n",
      " 20  Loan Status           100000 non-null  object \n",
      "dtypes: bool(1), float64(3), int64(6), object(11)\n",
      "memory usage: 15.4+ MB\n"
     ]
    }
   ],
   "source": [
    "data.info()"
   ]
  },
  {
   "cell_type": "markdown",
   "id": "4a6692ea",
   "metadata": {},
   "source": [
    "### Data Cleaning\n",
    "Data cleaning is easier when we are exploring variable  by variable so that none will be skipped in the process <br />\n",
    "The first step is exploring its response variable under the follwing inconsistences:\n",
    "- Repeated variables  <br />\n",
    "- Missing values  <br />\n",
    "- leading/trailing spaces <br />\n",
    "- Inconsistent labells   <br />\n",
    "- dropping unnecessary variables such as unique identifiers"
   ]
  },
  {
   "cell_type": "markdown",
   "id": "62d7b841",
   "metadata": {},
   "source": [
    "### 1. Unnamed: 0\n",
    "This varaiable is a counting variable and is unnamed/unlabelled, hence need to be dropped as it is of no significant use.<br />\n",
    "Drop the first unlabeled column\n"
   ]
  },
  {
   "cell_type": "code",
   "execution_count": 7,
   "id": "e253b3c0",
   "metadata": {},
   "outputs": [],
   "source": [
    "data = data.drop(data.columns[0], axis=1)"
   ]
  },
  {
   "cell_type": "markdown",
   "id": "7c41b8f0",
   "metadata": {},
   "source": [
    "### View the data information after dropping the first variable"
   ]
  },
  {
   "cell_type": "code",
   "execution_count": 8,
   "id": "28c2a370",
   "metadata": {},
   "outputs": [
    {
     "name": "stdout",
     "output_type": "stream",
     "text": [
      "<class 'pandas.core.frame.DataFrame'>\n",
      "RangeIndex: 100000 entries, 0 to 99999\n",
      "Data columns (total 20 columns):\n",
      " #   Column                Non-Null Count   Dtype  \n",
      "---  ------                --------------   -----  \n",
      " 0   loan_id               100000 non-null  object \n",
      " 1   gender                100000 non-null  object \n",
      " 2   disbursemet_date      100000 non-null  object \n",
      " 3   currency              100000 non-null  object \n",
      " 4   country               99900 non-null   object \n",
      " 5   sex                   100000 non-null  object \n",
      " 6   is_employed           100000 non-null  bool   \n",
      " 7   job                   95864 non-null   object \n",
      " 8   location              99405 non-null   object \n",
      " 9   loan_amount           100000 non-null  int64  \n",
      " 10  number_of_defaults    100000 non-null  int64  \n",
      " 11  outstanding_balance   100000 non-null  float64\n",
      " 12  interest_rate         100000 non-null  float64\n",
      " 13  age                   100000 non-null  int64  \n",
      " 14  number_of_defaults.1  100000 non-null  int64  \n",
      " 15  remaining term        100000 non-null  object \n",
      " 16  salary                100000 non-null  float64\n",
      " 17  marital_status        100000 non-null  object \n",
      " 18  age.1                 100000 non-null  int64  \n",
      " 19  Loan Status           100000 non-null  object \n",
      "dtypes: bool(1), float64(3), int64(5), object(11)\n",
      "memory usage: 14.6+ MB\n"
     ]
    }
   ],
   "source": [
    "data.info()"
   ]
  },
  {
   "cell_type": "markdown",
   "id": "ebe92020",
   "metadata": {},
   "source": [
    "### 2.   loan_id \n",
    "The loan_id is excluded when determmining the trainig and test set data as well as in reporting descriptive statistics as it is of no significant value in predicting default."
   ]
  },
  {
   "cell_type": "markdown",
   "id": "a92f1b65",
   "metadata": {},
   "source": [
    "### 3. gender  \n",
    "\n",
    "This variable has no inconsistences or missing values detected with 3 response categories i.e. female, other, male"
   ]
  },
  {
   "cell_type": "code",
   "execution_count": 9,
   "id": "495bbab9",
   "metadata": {},
   "outputs": [
    {
     "name": "stdout",
     "output_type": "stream",
     "text": [
      "['female' 'other' 'male']\n"
     ]
    }
   ],
   "source": [
    "print(data['gender'].unique())"
   ]
  },
  {
   "cell_type": "markdown",
   "id": "c74cb746",
   "metadata": {},
   "source": [
    "### 4. disbursemet_date\n",
    "This variable was checked for any inconsistences. \n",
    "Rather was determined not so useful on its own since the machine will never see these historical years in the future so it is not useful to train the model on historical dates it will not see in future rather was used to create new variables. <br />\n",
    "\n",
    "The new variable that was created was 'loan_length'. <br />\n",
    " \n",
    "This variable trade-off speaks to the duration or time period in months at which the loan existed in the loan portfolio books i.e the time in months elapsed between the date the loan was disbursed and the date when the PDs were predicted, calculated as:   <br />\n",
    "\n",
    "   loan_length = PD_prediction_date - disbursement_date  <br />\n",
    "   \n",
    "The unit of choice as months was used because months provide a more precise measure of the loan length, especially for shorter loans. In this case the loans are all below 5 years since disbursement and some loans were disbursed in 2023, less than a year in the credit portfolio. <br />\n",
    "\n",
    "The 'PD_prediction_date' was note stated or given, hence an assumption was made for the creation of this additional variable. <br />\n",
    "\n",
    "Assumption: <br />\n",
    "\n",
    "- Assume that the PDs were predicted as at 30 June 2024  <br />\n",
    "Hence the formular for 'loan_length' would be:    <br />\n",
    "           loan_length = 30 June 2024 - disbursement_date  <br />\n",
    "\n",
    "The disbursement date was dropped.\n"
   ]
  },
  {
   "cell_type": "code",
   "execution_count": 10,
   "id": "e96fdd23",
   "metadata": {},
   "outputs": [
    {
     "name": "stdout",
     "output_type": "stream",
     "text": [
      "                                    loan_id  gender disbursemet_date currency  \\\n",
      "0      8d05de78-ff32-46b1-aeb5-b3190f9c158a  female       2022-10-29      USD   \n",
      "1      368bf756-fcf2-4822-9612-f445d90b485b   other       2020-06-06      USD   \n",
      "2      6e3be39e-49b5-45b5-aab6-c6556de53c6f   other       2023-09-29      USD   \n",
      "3      191c62f8-2211-49fe-ba91-43556b307871  female       2022-06-22      USD   \n",
      "4      477cd8a1-3b01-4623-9318-8cd6122a8346    male       2023-02-08      USD   \n",
      "...                                     ...     ...              ...      ...   \n",
      "99995  41000f4b-3821-4dea-90e1-9ecf591ed1c0    male       2021-10-20      USD   \n",
      "99996  507c2a45-02fa-4aa0-854a-8947a865a7ea   other       2023-06-11      USD   \n",
      "99997  4f10e845-8f75-4cd5-9f3a-3dad3e04a483  female       2021-10-20      USD   \n",
      "99998  eded01ca-79d2-4e86-a1e3-2ea1354edca7    male       2021-08-22      USD   \n",
      "99999  a37561ec-0901-4350-8a13-634f80ece55d   other       2022-04-29      USD   \n",
      "\n",
      "        country     sex  is_employed           job     location  loan_amount  \\\n",
      "0      Zimbabwe  female         True       Teacher   Beitbridge        39000   \n",
      "1      Zimbabwe   other         True       Teacher       Harare        27000   \n",
      "2      Zimbabwe   other         True         Nurse        Gweru        35000   \n",
      "3      Zimbabwe  female         True        Doctor       Rusape        24000   \n",
      "4      Zimbabwe    male         True         Nurse     Chipinge        19000   \n",
      "...         ...     ...          ...           ...          ...          ...   \n",
      "99995  Zimbabwe    male        False           NaN    Marondera        36000   \n",
      "99996  Zimbabwe   other         True      Engineer  Chimanimani        43000   \n",
      "99997  Zimbabwe  female         True  Data Analyst       Kadoma        48000   \n",
      "99998  Zimbabwe    male         True      Engineer       Mutare        36000   \n",
      "99999  Zimbabwe   other         True      Engineer        Gweru        46000   \n",
      "\n",
      "       number_of_defaults  outstanding_balance  interest_rate  age  \\\n",
      "0                       0          48653.01147           0.22   37   \n",
      "1                       2          28752.06224           0.20   43   \n",
      "2                       1          44797.55413           0.22   43   \n",
      "3                       0          35681.49641           0.23   47   \n",
      "4                       0          34156.05588           0.20   42   \n",
      "...                   ...                  ...            ...  ...   \n",
      "99995                   1          32968.21988           0.21   52   \n",
      "99996                   0          48652.55490           0.23   50   \n",
      "99997                   0          34266.22413           0.23   43   \n",
      "99998                   2          71546.02492           0.22   49   \n",
      "99999                   0          43141.10293           0.21   47   \n",
      "\n",
      "       number_of_defaults.1 remaining term       salary marital_status  age.1  \\\n",
      "0                         0             47  3230.038869        married     37   \n",
      "1                         2             62  3194.139103         single     43   \n",
      "2                         1             57  3330.826656        married     43   \n",
      "3                         0             42  2246.797020       divorced     47   \n",
      "4                         0             45  2310.858441        married     42   \n",
      "...                     ...            ...          ...            ...    ...   \n",
      "99995                     1             29  1803.818844         single     52   \n",
      "99996                     0             57  3056.127917        married     50   \n",
      "99997                     0             53  3535.599759        married     43   \n",
      "99998                     2             59  3082.407123         single     49   \n",
      "99999                     0             47  2670.766532        married     47   \n",
      "\n",
      "           Loan Status  loan_length  \n",
      "0      Did not default           20  \n",
      "1      Did not default           48  \n",
      "2      Did not default            9  \n",
      "3      Did not default           24  \n",
      "4      Did not default           16  \n",
      "...                ...          ...  \n",
      "99995  Did not default           32  \n",
      "99996  Did not default           12  \n",
      "99997  Did not default           32  \n",
      "99998  Did not default           34  \n",
      "99999  Did not default           26  \n",
      "\n",
      "[100000 rows x 21 columns]\n"
     ]
    }
   ],
   "source": [
    "\n",
    "# Convert the 'disbursemet_date' to datetime\n",
    "data['disbursemet_date'] = pd.to_datetime(data['disbursemet_date'], format='%Y %m %d')\n",
    "\n",
    "# Calculate the 'loan_length' in months\n",
    "current_date = date(2024, 6, 30)\n",
    "data['loan_length'] = [(current_date.year * 12 + current_date.month) - (d.year * 12 + d.month) for d in data['disbursemet_date']]\n",
    "\n",
    "# Create the new DataFrame\n",
    "data = pd.DataFrame(data)\n",
    "\n",
    "print(data)"
   ]
  },
  {
   "cell_type": "code",
   "execution_count": 11,
   "id": "f4ffba42",
   "metadata": {},
   "outputs": [],
   "source": [
    "data = data.drop(data.columns[2], axis=1)"
   ]
  },
  {
   "cell_type": "code",
   "execution_count": 12,
   "id": "07848832",
   "metadata": {},
   "outputs": [
    {
     "name": "stdout",
     "output_type": "stream",
     "text": [
      "                                    loan_id  gender currency   country  \\\n",
      "0      8d05de78-ff32-46b1-aeb5-b3190f9c158a  female      USD  Zimbabwe   \n",
      "1      368bf756-fcf2-4822-9612-f445d90b485b   other      USD  Zimbabwe   \n",
      "2      6e3be39e-49b5-45b5-aab6-c6556de53c6f   other      USD  Zimbabwe   \n",
      "3      191c62f8-2211-49fe-ba91-43556b307871  female      USD  Zimbabwe   \n",
      "4      477cd8a1-3b01-4623-9318-8cd6122a8346    male      USD  Zimbabwe   \n",
      "...                                     ...     ...      ...       ...   \n",
      "99995  41000f4b-3821-4dea-90e1-9ecf591ed1c0    male      USD  Zimbabwe   \n",
      "99996  507c2a45-02fa-4aa0-854a-8947a865a7ea   other      USD  Zimbabwe   \n",
      "99997  4f10e845-8f75-4cd5-9f3a-3dad3e04a483  female      USD  Zimbabwe   \n",
      "99998  eded01ca-79d2-4e86-a1e3-2ea1354edca7    male      USD  Zimbabwe   \n",
      "99999  a37561ec-0901-4350-8a13-634f80ece55d   other      USD  Zimbabwe   \n",
      "\n",
      "          sex  is_employed           job     location  loan_amount  \\\n",
      "0      female         True       Teacher   Beitbridge        39000   \n",
      "1       other         True       Teacher       Harare        27000   \n",
      "2       other         True         Nurse        Gweru        35000   \n",
      "3      female         True        Doctor       Rusape        24000   \n",
      "4        male         True         Nurse     Chipinge        19000   \n",
      "...       ...          ...           ...          ...          ...   \n",
      "99995    male        False           NaN    Marondera        36000   \n",
      "99996   other         True      Engineer  Chimanimani        43000   \n",
      "99997  female         True  Data Analyst       Kadoma        48000   \n",
      "99998    male         True      Engineer       Mutare        36000   \n",
      "99999   other         True      Engineer        Gweru        46000   \n",
      "\n",
      "       number_of_defaults  outstanding_balance  interest_rate  age  \\\n",
      "0                       0          48653.01147           0.22   37   \n",
      "1                       2          28752.06224           0.20   43   \n",
      "2                       1          44797.55413           0.22   43   \n",
      "3                       0          35681.49641           0.23   47   \n",
      "4                       0          34156.05588           0.20   42   \n",
      "...                   ...                  ...            ...  ...   \n",
      "99995                   1          32968.21988           0.21   52   \n",
      "99996                   0          48652.55490           0.23   50   \n",
      "99997                   0          34266.22413           0.23   43   \n",
      "99998                   2          71546.02492           0.22   49   \n",
      "99999                   0          43141.10293           0.21   47   \n",
      "\n",
      "       number_of_defaults.1 remaining term       salary marital_status  age.1  \\\n",
      "0                         0             47  3230.038869        married     37   \n",
      "1                         2             62  3194.139103         single     43   \n",
      "2                         1             57  3330.826656        married     43   \n",
      "3                         0             42  2246.797020       divorced     47   \n",
      "4                         0             45  2310.858441        married     42   \n",
      "...                     ...            ...          ...            ...    ...   \n",
      "99995                     1             29  1803.818844         single     52   \n",
      "99996                     0             57  3056.127917        married     50   \n",
      "99997                     0             53  3535.599759        married     43   \n",
      "99998                     2             59  3082.407123         single     49   \n",
      "99999                     0             47  2670.766532        married     47   \n",
      "\n",
      "           Loan Status  loan_length  \n",
      "0      Did not default           20  \n",
      "1      Did not default           48  \n",
      "2      Did not default            9  \n",
      "3      Did not default           24  \n",
      "4      Did not default           16  \n",
      "...                ...          ...  \n",
      "99995  Did not default           32  \n",
      "99996  Did not default           12  \n",
      "99997  Did not default           32  \n",
      "99998  Did not default           34  \n",
      "99999  Did not default           26  \n",
      "\n",
      "[100000 rows x 20 columns]\n"
     ]
    }
   ],
   "source": [
    "print(data)"
   ]
  },
  {
   "cell_type": "markdown",
   "id": "f36b4fad",
   "metadata": {},
   "source": [
    "### 5. currency\n",
    "The currency variable is deemed not important and is not providing any additional information to the analysis, as it is a constant. <br />\n",
    "However, if I you had more variation in the 'currency' column e.g., 'USD', 'EUR', 'GBP', then it could be an important predictor to include in modelling. <br />\n",
    "Hence the currency variable is dropped."
   ]
  },
  {
   "cell_type": "code",
   "execution_count": 13,
   "id": "bb044d4b",
   "metadata": {},
   "outputs": [
    {
     "name": "stdout",
     "output_type": "stream",
     "text": [
      "                                    loan_id  gender   country     sex  \\\n",
      "0      8d05de78-ff32-46b1-aeb5-b3190f9c158a  female  Zimbabwe  female   \n",
      "1      368bf756-fcf2-4822-9612-f445d90b485b   other  Zimbabwe   other   \n",
      "2      6e3be39e-49b5-45b5-aab6-c6556de53c6f   other  Zimbabwe   other   \n",
      "3      191c62f8-2211-49fe-ba91-43556b307871  female  Zimbabwe  female   \n",
      "4      477cd8a1-3b01-4623-9318-8cd6122a8346    male  Zimbabwe    male   \n",
      "...                                     ...     ...       ...     ...   \n",
      "99995  41000f4b-3821-4dea-90e1-9ecf591ed1c0    male  Zimbabwe    male   \n",
      "99996  507c2a45-02fa-4aa0-854a-8947a865a7ea   other  Zimbabwe   other   \n",
      "99997  4f10e845-8f75-4cd5-9f3a-3dad3e04a483  female  Zimbabwe  female   \n",
      "99998  eded01ca-79d2-4e86-a1e3-2ea1354edca7    male  Zimbabwe    male   \n",
      "99999  a37561ec-0901-4350-8a13-634f80ece55d   other  Zimbabwe   other   \n",
      "\n",
      "       is_employed           job     location  loan_amount  \\\n",
      "0             True       Teacher   Beitbridge        39000   \n",
      "1             True       Teacher       Harare        27000   \n",
      "2             True         Nurse        Gweru        35000   \n",
      "3             True        Doctor       Rusape        24000   \n",
      "4             True         Nurse     Chipinge        19000   \n",
      "...            ...           ...          ...          ...   \n",
      "99995        False           NaN    Marondera        36000   \n",
      "99996         True      Engineer  Chimanimani        43000   \n",
      "99997         True  Data Analyst       Kadoma        48000   \n",
      "99998         True      Engineer       Mutare        36000   \n",
      "99999         True      Engineer        Gweru        46000   \n",
      "\n",
      "       number_of_defaults  outstanding_balance  interest_rate  age  \\\n",
      "0                       0          48653.01147           0.22   37   \n",
      "1                       2          28752.06224           0.20   43   \n",
      "2                       1          44797.55413           0.22   43   \n",
      "3                       0          35681.49641           0.23   47   \n",
      "4                       0          34156.05588           0.20   42   \n",
      "...                   ...                  ...            ...  ...   \n",
      "99995                   1          32968.21988           0.21   52   \n",
      "99996                   0          48652.55490           0.23   50   \n",
      "99997                   0          34266.22413           0.23   43   \n",
      "99998                   2          71546.02492           0.22   49   \n",
      "99999                   0          43141.10293           0.21   47   \n",
      "\n",
      "       number_of_defaults.1 remaining term       salary marital_status  age.1  \\\n",
      "0                         0             47  3230.038869        married     37   \n",
      "1                         2             62  3194.139103         single     43   \n",
      "2                         1             57  3330.826656        married     43   \n",
      "3                         0             42  2246.797020       divorced     47   \n",
      "4                         0             45  2310.858441        married     42   \n",
      "...                     ...            ...          ...            ...    ...   \n",
      "99995                     1             29  1803.818844         single     52   \n",
      "99996                     0             57  3056.127917        married     50   \n",
      "99997                     0             53  3535.599759        married     43   \n",
      "99998                     2             59  3082.407123         single     49   \n",
      "99999                     0             47  2670.766532        married     47   \n",
      "\n",
      "           Loan Status  loan_length  \n",
      "0      Did not default           20  \n",
      "1      Did not default           48  \n",
      "2      Did not default            9  \n",
      "3      Did not default           24  \n",
      "4      Did not default           16  \n",
      "...                ...          ...  \n",
      "99995  Did not default           32  \n",
      "99996  Did not default           12  \n",
      "99997  Did not default           32  \n",
      "99998  Did not default           34  \n",
      "99999  Did not default           26  \n",
      "\n",
      "[100000 rows x 19 columns]\n"
     ]
    }
   ],
   "source": [
    "data = data.drop(data.columns[2], axis=1)\n",
    "print(data)"
   ]
  },
  {
   "cell_type": "markdown",
   "id": "e75de096",
   "metadata": {},
   "source": [
    "### 6. country\n",
    "The country variable is deemed not important and is not providing any additional information to the analysis, and is a constant. <br />\n",
    "If I you had more country variation in the country column e.g. Zmbia, South Africa, then it could be an important predictor to include in modelling.<br />\n",
    "Hence the country variable is dropped."
   ]
  },
  {
   "cell_type": "code",
   "execution_count": 14,
   "id": "d3d0e9eb",
   "metadata": {},
   "outputs": [
    {
     "name": "stdout",
     "output_type": "stream",
     "text": [
      "['Zimbabwe' 'zimbabwe' 'Zim' nan]\n"
     ]
    }
   ],
   "source": [
    "#View this country variable\n",
    "\n",
    "print(pd.unique(data['country']))"
   ]
  },
  {
   "cell_type": "code",
   "execution_count": 15,
   "id": "cc9269c0",
   "metadata": {},
   "outputs": [
    {
     "name": "stdout",
     "output_type": "stream",
     "text": [
      "                                    loan_id  gender     sex  is_employed  \\\n",
      "0      8d05de78-ff32-46b1-aeb5-b3190f9c158a  female  female         True   \n",
      "1      368bf756-fcf2-4822-9612-f445d90b485b   other   other         True   \n",
      "2      6e3be39e-49b5-45b5-aab6-c6556de53c6f   other   other         True   \n",
      "3      191c62f8-2211-49fe-ba91-43556b307871  female  female         True   \n",
      "4      477cd8a1-3b01-4623-9318-8cd6122a8346    male    male         True   \n",
      "...                                     ...     ...     ...          ...   \n",
      "99995  41000f4b-3821-4dea-90e1-9ecf591ed1c0    male    male        False   \n",
      "99996  507c2a45-02fa-4aa0-854a-8947a865a7ea   other   other         True   \n",
      "99997  4f10e845-8f75-4cd5-9f3a-3dad3e04a483  female  female         True   \n",
      "99998  eded01ca-79d2-4e86-a1e3-2ea1354edca7    male    male         True   \n",
      "99999  a37561ec-0901-4350-8a13-634f80ece55d   other   other         True   \n",
      "\n",
      "                job     location  loan_amount  number_of_defaults  \\\n",
      "0           Teacher   Beitbridge        39000                   0   \n",
      "1           Teacher       Harare        27000                   2   \n",
      "2             Nurse        Gweru        35000                   1   \n",
      "3            Doctor       Rusape        24000                   0   \n",
      "4             Nurse     Chipinge        19000                   0   \n",
      "...             ...          ...          ...                 ...   \n",
      "99995           NaN    Marondera        36000                   1   \n",
      "99996      Engineer  Chimanimani        43000                   0   \n",
      "99997  Data Analyst       Kadoma        48000                   0   \n",
      "99998      Engineer       Mutare        36000                   2   \n",
      "99999      Engineer        Gweru        46000                   0   \n",
      "\n",
      "       outstanding_balance  interest_rate  age  number_of_defaults.1  \\\n",
      "0              48653.01147           0.22   37                     0   \n",
      "1              28752.06224           0.20   43                     2   \n",
      "2              44797.55413           0.22   43                     1   \n",
      "3              35681.49641           0.23   47                     0   \n",
      "4              34156.05588           0.20   42                     0   \n",
      "...                    ...            ...  ...                   ...   \n",
      "99995          32968.21988           0.21   52                     1   \n",
      "99996          48652.55490           0.23   50                     0   \n",
      "99997          34266.22413           0.23   43                     0   \n",
      "99998          71546.02492           0.22   49                     2   \n",
      "99999          43141.10293           0.21   47                     0   \n",
      "\n",
      "      remaining term       salary marital_status  age.1      Loan Status  \\\n",
      "0                 47  3230.038869        married     37  Did not default   \n",
      "1                 62  3194.139103         single     43  Did not default   \n",
      "2                 57  3330.826656        married     43  Did not default   \n",
      "3                 42  2246.797020       divorced     47  Did not default   \n",
      "4                 45  2310.858441        married     42  Did not default   \n",
      "...              ...          ...            ...    ...              ...   \n",
      "99995             29  1803.818844         single     52  Did not default   \n",
      "99996             57  3056.127917        married     50  Did not default   \n",
      "99997             53  3535.599759        married     43  Did not default   \n",
      "99998             59  3082.407123         single     49  Did not default   \n",
      "99999             47  2670.766532        married     47  Did not default   \n",
      "\n",
      "       loan_length  \n",
      "0               20  \n",
      "1               48  \n",
      "2                9  \n",
      "3               24  \n",
      "4               16  \n",
      "...            ...  \n",
      "99995           32  \n",
      "99996           12  \n",
      "99997           32  \n",
      "99998           34  \n",
      "99999           26  \n",
      "\n",
      "[100000 rows x 18 columns]\n"
     ]
    }
   ],
   "source": [
    "data = data.drop(data.columns[2], axis=1)\n",
    "print(data)"
   ]
  },
  {
   "cell_type": "markdown",
   "id": "20b19d26",
   "metadata": {},
   "source": [
    "### 7. sex\n",
    "The sex variable was repeated from the gender variable, hence it was instantly dropped."
   ]
  },
  {
   "cell_type": "code",
   "execution_count": 16,
   "id": "806db5da",
   "metadata": {},
   "outputs": [
    {
     "name": "stdout",
     "output_type": "stream",
     "text": [
      "                                    loan_id  gender  is_employed  \\\n",
      "0      8d05de78-ff32-46b1-aeb5-b3190f9c158a  female         True   \n",
      "1      368bf756-fcf2-4822-9612-f445d90b485b   other         True   \n",
      "2      6e3be39e-49b5-45b5-aab6-c6556de53c6f   other         True   \n",
      "3      191c62f8-2211-49fe-ba91-43556b307871  female         True   \n",
      "4      477cd8a1-3b01-4623-9318-8cd6122a8346    male         True   \n",
      "...                                     ...     ...          ...   \n",
      "99995  41000f4b-3821-4dea-90e1-9ecf591ed1c0    male        False   \n",
      "99996  507c2a45-02fa-4aa0-854a-8947a865a7ea   other         True   \n",
      "99997  4f10e845-8f75-4cd5-9f3a-3dad3e04a483  female         True   \n",
      "99998  eded01ca-79d2-4e86-a1e3-2ea1354edca7    male         True   \n",
      "99999  a37561ec-0901-4350-8a13-634f80ece55d   other         True   \n",
      "\n",
      "                job     location  loan_amount  number_of_defaults  \\\n",
      "0           Teacher   Beitbridge        39000                   0   \n",
      "1           Teacher       Harare        27000                   2   \n",
      "2             Nurse        Gweru        35000                   1   \n",
      "3            Doctor       Rusape        24000                   0   \n",
      "4             Nurse     Chipinge        19000                   0   \n",
      "...             ...          ...          ...                 ...   \n",
      "99995           NaN    Marondera        36000                   1   \n",
      "99996      Engineer  Chimanimani        43000                   0   \n",
      "99997  Data Analyst       Kadoma        48000                   0   \n",
      "99998      Engineer       Mutare        36000                   2   \n",
      "99999      Engineer        Gweru        46000                   0   \n",
      "\n",
      "       outstanding_balance  interest_rate  age  number_of_defaults.1  \\\n",
      "0              48653.01147           0.22   37                     0   \n",
      "1              28752.06224           0.20   43                     2   \n",
      "2              44797.55413           0.22   43                     1   \n",
      "3              35681.49641           0.23   47                     0   \n",
      "4              34156.05588           0.20   42                     0   \n",
      "...                    ...            ...  ...                   ...   \n",
      "99995          32968.21988           0.21   52                     1   \n",
      "99996          48652.55490           0.23   50                     0   \n",
      "99997          34266.22413           0.23   43                     0   \n",
      "99998          71546.02492           0.22   49                     2   \n",
      "99999          43141.10293           0.21   47                     0   \n",
      "\n",
      "      remaining term       salary marital_status  age.1      Loan Status  \\\n",
      "0                 47  3230.038869        married     37  Did not default   \n",
      "1                 62  3194.139103         single     43  Did not default   \n",
      "2                 57  3330.826656        married     43  Did not default   \n",
      "3                 42  2246.797020       divorced     47  Did not default   \n",
      "4                 45  2310.858441        married     42  Did not default   \n",
      "...              ...          ...            ...    ...              ...   \n",
      "99995             29  1803.818844         single     52  Did not default   \n",
      "99996             57  3056.127917        married     50  Did not default   \n",
      "99997             53  3535.599759        married     43  Did not default   \n",
      "99998             59  3082.407123         single     49  Did not default   \n",
      "99999             47  2670.766532        married     47  Did not default   \n",
      "\n",
      "       loan_length  \n",
      "0               20  \n",
      "1               48  \n",
      "2                9  \n",
      "3               24  \n",
      "4               16  \n",
      "...            ...  \n",
      "99995           32  \n",
      "99996           12  \n",
      "99997           32  \n",
      "99998           34  \n",
      "99999           26  \n",
      "\n",
      "[100000 rows x 17 columns]\n"
     ]
    }
   ],
   "source": [
    "data = data.drop(data.columns[2], axis=1)\n",
    "print(data)"
   ]
  },
  {
   "cell_type": "markdown",
   "id": "0c4b708d",
   "metadata": {},
   "source": [
    "### 8. is_employed\n",
    "This variable was checked for inconsistences and none were found including missind data, errors in labels etc"
   ]
  },
  {
   "cell_type": "code",
   "execution_count": 17,
   "id": "55ecac8a",
   "metadata": {},
   "outputs": [
    {
     "name": "stdout",
     "output_type": "stream",
     "text": [
      "[ True False]\n"
     ]
    }
   ],
   "source": [
    "print(data['is_employed'].unique())"
   ]
  },
  {
   "cell_type": "markdown",
   "id": "6ddaa70e",
   "metadata": {},
   "source": [
    "### 9. job\n",
    "This variable consisted of more than 4,000 entries with missing data. <br />\n",
    "Besides missing data the response labels were not inconsistent e.g 'Software Developer' vs 'SoftwareDeveloper' and  'Data Scintist' vs 'Data Scientist' <br />\n",
    "These missing values were filled using the 'is_emplyed' variable. <br />\n",
    "It was found that all the missing values on 'job' were not employed under the 'is_employed' variable i.e they were all 'FALSE' <br />\n",
    "The 'is_emplyed' variable determined the replacements on the 'job' variable as follows: <br />\n",
    "- if 'is_employed' is 'FALSE' the 'job' 'Unemployed'"
   ]
  },
  {
   "cell_type": "code",
   "execution_count": 18,
   "id": "80084911",
   "metadata": {},
   "outputs": [
    {
     "name": "stdout",
     "output_type": "stream",
     "text": [
      "['Teacher' 'Nurse' 'Doctor' 'Data Analyst' 'Software Developer'\n",
      " 'Accountant' 'Lawyer' 'Engineer' nan 'Data Scientist' 'SoftwareDeveloper'\n",
      " 'Data Scintist']\n"
     ]
    }
   ],
   "source": [
    "print(data['job'].unique())"
   ]
  },
  {
   "cell_type": "code",
   "execution_count": 19,
   "id": "e0dba0fa",
   "metadata": {},
   "outputs": [
    {
     "name": "stdout",
     "output_type": "stream",
     "text": [
      "['Teacher' 'Nurse' 'Doctor' 'Data Analyst' 'Software Developer'\n",
      " 'Accountant' 'Lawyer' 'Engineer' 'Unemployed' 'Data Scientist']\n"
     ]
    }
   ],
   "source": [
    "# Standardize job titles\n",
    "data['job'] = data['job'].str.title()\n",
    "data['job'] = data['job'].replace('Softwaredeveloper', 'Software Developer')\n",
    "data['job'] = data['job'].replace('Data Scintist', 'Data Scientist')\n",
    "\n",
    "# Handle missing values\n",
    "data['job'] = data['job'].fillna('Unemployed')\n",
    "\n",
    "# Create a list of unique job titles\n",
    "unique_jobs = data['job'].unique()\n",
    "print(unique_jobs)"
   ]
  },
  {
   "cell_type": "markdown",
   "id": "7eb2fa93",
   "metadata": {},
   "source": [
    "### 10. location\n",
    "This variable was checked for inconsistences and some were found. <br />\n",
    "The variable had inconsistent response labelling, were the responses had leading spaces hence the names were repeated e.g 'Gweru', ' Gweru   ', ' Gweru '. <br />"
   ]
  },
  {
   "cell_type": "code",
   "execution_count": 20,
   "id": "4abd8fe4",
   "metadata": {},
   "outputs": [
    {
     "name": "stdout",
     "output_type": "stream",
     "text": [
      "['Beitbridge' 'Harare' 'Gweru' 'Rusape' 'Chipinge' 'Chimanimani'\n",
      " 'Marondera' 'Kadoma' 'Mutare' 'Masvingo' 'Bulawayo' 'Kariba' 'Plumtree'\n",
      " 'Chiredzi' 'Shurugwi' 'Chivhu' 'Zvishavane' 'Nyanga' 'Karoi' 'Redcliff'\n",
      " 'Kwekwe' ' Karoi ' 'Gokwe' 'Victoria Falls' ' Masvingo ' '   Chipinge   '\n",
      " ' Mutare ' nan '   Mutare ' ' Marondera   ' '   Rusape   ' ' Bulawayo   '\n",
      " 'Chivhu ' ' Chimanimani   ' 'Plumtree   ' '   Masvingo   ' '   Gweru '\n",
      " '   Chivhu   ' 'Mutare   ' ' Kwekwe ' 'Marondera   ' ' Chipinge   '\n",
      " '   Mutare   ' '   Karoi   ' ' Beitbridge   ' '   Karoi ' ' Beitbridge '\n",
      " ' Mutare   ' '   Bulawayo ' 'Masvingo   ' ' Kadoma   ' ' Plumtree '\n",
      " 'Marondera ' '   Plumtree ' ' Chipinge ' '   Harare ' 'Harare   '\n",
      " ' Nyanga   ' ' Gweru   ' 'Rusape   ' 'Masvingo ' '   Harare   '\n",
      " ' Kadoma ' 'Bulawayo   ' ' Kwekwe   ' 'Hwange' ' Harare '\n",
      " '   Marondera   ' 'Chipinge   ' '   Marondera ' '   Beitbridge '\n",
      " 'Karoi   ' 'Chimanimani ' ' Bulawayo ' 'Chivhu   ' 'Kwekwe ' ' Kariba   '\n",
      " ' Marondera ' 'Plumtree ' '   Bulawayo   ' 'Karoi ' ' Chivhu   '\n",
      " '   Nyanga ' '   Chipinge ' ' Rusape   ' '   Beitbridge   ' ' Harare   '\n",
      " ' Chivhu ' ' Gweru ' ' Kariba ' 'Harare ' ' Chimanimani ' 'Beitbridge   '\n",
      " '   Chivhu ' '   Gweru   ' 'Chiredzi ' ' Masvingo   ' ' Zvishavane '\n",
      " 'Mutare ' '   Chiredzi ' 'Gweru ' 'Gweru   ' ' Plumtree   ' 'Chiredzi   '\n",
      " ' Chiredzi ' 'Chipinge ' ' Rusape ' '   Plumtree   ' '   Kadoma   '\n",
      " 'Rusape ' ' Zvishavane   ' '   Masvingo ' 'Nyanga   ' '   Kwekwe   '\n",
      " 'Chimanimani   ' ' Chiredzi   ' ' Karoi   ' 'Shurugwi ' 'Gokwe '\n",
      " 'Zvishavane   ' '   Chimanimani ' '   Gokwe ' 'Bulawayo ' '   Shurugwi '\n",
      " '   Zvishavane   ' 'Beitbridge ' '   Chimanimani   ' ' Redcliff '\n",
      " 'Kadoma   ' 'Kwekwe   ' ' Gokwe ' '   Kadoma ' '   Kwekwe '\n",
      " '   Shurugwi   ' '   Nyanga   ' 'Zvishavane ' 'Kariba ' ' Shurugwi   '\n",
      " ' Shurugwi ' '   Rusape ' '   Chiredzi   ' '   Redcliff   '\n",
      " '   Kariba   ' 'Victoria Falls   ' 'Shurugwi   ' ' Nyanga '\n",
      " 'Victoria Falls ' '   Gokwe   ' 'Kariba   ' ' Victoria Falls '\n",
      " '   Victoria Falls ' 'Nyanga ' 'Kadoma ' ' Gokwe   ' '   Kariba '\n",
      " '   Zvishavane ' ' Victoria Falls   ' 'Gokwe   ']\n"
     ]
    }
   ],
   "source": [
    "print(data['location'].unique())"
   ]
  },
  {
   "cell_type": "markdown",
   "id": "4f934a75",
   "metadata": {},
   "source": [
    "### Removing leading/trailing spaces on the response variables\n",
    "These leading spaces affect the uniquness of responses in my 'location' variable "
   ]
  },
  {
   "cell_type": "code",
   "execution_count": 21,
   "id": "22e3008c",
   "metadata": {},
   "outputs": [],
   "source": [
    "data['location'] = data['location'].str.strip()"
   ]
  },
  {
   "cell_type": "markdown",
   "id": "6cf58137",
   "metadata": {},
   "source": [
    "### View the unique locations\n",
    "The location variable also has blanks labelled 'nan'"
   ]
  },
  {
   "cell_type": "code",
   "execution_count": 22,
   "id": "abc3e801",
   "metadata": {},
   "outputs": [
    {
     "name": "stdout",
     "output_type": "stream",
     "text": [
      "['Beitbridge' 'Harare' 'Gweru' 'Rusape' 'Chipinge' 'Chimanimani'\n",
      " 'Marondera' 'Kadoma' 'Mutare' 'Masvingo' 'Bulawayo' 'Kariba' 'Plumtree'\n",
      " 'Chiredzi' 'Shurugwi' 'Chivhu' 'Zvishavane' 'Nyanga' 'Karoi' 'Redcliff'\n",
      " 'Kwekwe' 'Gokwe' 'Victoria Falls' nan 'Hwange']\n"
     ]
    }
   ],
   "source": [
    "print(pd.unique(data['location']))"
   ]
  },
  {
   "cell_type": "markdown",
   "id": "0a1f7b3f",
   "metadata": {},
   "source": [
    "### Missing data in the 'location' variable\n",
    "Fill missing values with 'Not_specified' in the location variable for completeness. <br />\n",
    "The variable is quite important since it reflects the level of default as per clients respective location/city of residence <br />\n",
    "The economic conditions and performance of a specific region or city can have a significant impact on the financial health and creditworthiness of individuals and businesses located there. Factors like employment rates, income levels, industry composition, and economic growth can vary across different locations and influence the default risk. <br />\n",
    "Cost of Living: <br />\n",
    "The cost of living in a particular city or region can affect the financial stability of individuals and businesses. <br />\n",
    "Higher costs of living, such as housing, utilities, and other expenses, can put more strain on their financial resources and increase the likelihood of default.<br />"
   ]
  },
  {
   "cell_type": "code",
   "execution_count": 23,
   "id": "6afa30e2",
   "metadata": {},
   "outputs": [
    {
     "name": "stdout",
     "output_type": "stream",
     "text": [
      "                                    loan_id  gender  is_employed  \\\n",
      "0      8d05de78-ff32-46b1-aeb5-b3190f9c158a  female         True   \n",
      "1      368bf756-fcf2-4822-9612-f445d90b485b   other         True   \n",
      "2      6e3be39e-49b5-45b5-aab6-c6556de53c6f   other         True   \n",
      "3      191c62f8-2211-49fe-ba91-43556b307871  female         True   \n",
      "4      477cd8a1-3b01-4623-9318-8cd6122a8346    male         True   \n",
      "...                                     ...     ...          ...   \n",
      "99995  41000f4b-3821-4dea-90e1-9ecf591ed1c0    male        False   \n",
      "99996  507c2a45-02fa-4aa0-854a-8947a865a7ea   other         True   \n",
      "99997  4f10e845-8f75-4cd5-9f3a-3dad3e04a483  female         True   \n",
      "99998  eded01ca-79d2-4e86-a1e3-2ea1354edca7    male         True   \n",
      "99999  a37561ec-0901-4350-8a13-634f80ece55d   other         True   \n",
      "\n",
      "                job     location  loan_amount  number_of_defaults  \\\n",
      "0           Teacher   Beitbridge        39000                   0   \n",
      "1           Teacher       Harare        27000                   2   \n",
      "2             Nurse        Gweru        35000                   1   \n",
      "3            Doctor       Rusape        24000                   0   \n",
      "4             Nurse     Chipinge        19000                   0   \n",
      "...             ...          ...          ...                 ...   \n",
      "99995    Unemployed    Marondera        36000                   1   \n",
      "99996      Engineer  Chimanimani        43000                   0   \n",
      "99997  Data Analyst       Kadoma        48000                   0   \n",
      "99998      Engineer       Mutare        36000                   2   \n",
      "99999      Engineer        Gweru        46000                   0   \n",
      "\n",
      "       outstanding_balance  interest_rate  age  number_of_defaults.1  \\\n",
      "0              48653.01147           0.22   37                     0   \n",
      "1              28752.06224           0.20   43                     2   \n",
      "2              44797.55413           0.22   43                     1   \n",
      "3              35681.49641           0.23   47                     0   \n",
      "4              34156.05588           0.20   42                     0   \n",
      "...                    ...            ...  ...                   ...   \n",
      "99995          32968.21988           0.21   52                     1   \n",
      "99996          48652.55490           0.23   50                     0   \n",
      "99997          34266.22413           0.23   43                     0   \n",
      "99998          71546.02492           0.22   49                     2   \n",
      "99999          43141.10293           0.21   47                     0   \n",
      "\n",
      "      remaining term       salary marital_status  age.1      Loan Status  \\\n",
      "0                 47  3230.038869        married     37  Did not default   \n",
      "1                 62  3194.139103         single     43  Did not default   \n",
      "2                 57  3330.826656        married     43  Did not default   \n",
      "3                 42  2246.797020       divorced     47  Did not default   \n",
      "4                 45  2310.858441        married     42  Did not default   \n",
      "...              ...          ...            ...    ...              ...   \n",
      "99995             29  1803.818844         single     52  Did not default   \n",
      "99996             57  3056.127917        married     50  Did not default   \n",
      "99997             53  3535.599759        married     43  Did not default   \n",
      "99998             59  3082.407123         single     49  Did not default   \n",
      "99999             47  2670.766532        married     47  Did not default   \n",
      "\n",
      "       loan_length  \n",
      "0               20  \n",
      "1               48  \n",
      "2                9  \n",
      "3               24  \n",
      "4               16  \n",
      "...            ...  \n",
      "99995           32  \n",
      "99996           12  \n",
      "99997           32  \n",
      "99998           34  \n",
      "99999           26  \n",
      "\n",
      "[100000 rows x 17 columns]\n"
     ]
    }
   ],
   "source": [
    "data['location'] = data['location'].fillna('Not_specified')\n",
    "\n",
    "# Display the updated DataFrame\n",
    "print(data)"
   ]
  },
  {
   "cell_type": "markdown",
   "id": "a86a6fc6",
   "metadata": {},
   "source": [
    "# Assigning provinces to the 'location' variable\n",
    "The location cvariable was assigned city provinces to reduce dimensionality, improve generalization and robustness to sparse data in the variable. <br />\n",
    "Aggregating the locations to the province level can significantly reduce the number of unique categories, making the data more manageable for the model. <br />\n",
    "The province-level information may capture broader regional factors that influence default risk, such as economic conditions, infrastructure <br />\n",
    "Some cities may have very few observations in the dataset, making it challenging for the model to learn reliable patterns.<br />\n",
    "Grouping the data by province can help address this issue by ensuring that each province has a sufficient number of observations for the model to learn from."
   ]
  },
  {
   "cell_type": "code",
   "execution_count": 25,
   "id": "94486a8a",
   "metadata": {},
   "outputs": [
    {
     "name": "stdout",
     "output_type": "stream",
     "text": [
      "                                    loan_id  gender  is_employed  \\\n",
      "0      8d05de78-ff32-46b1-aeb5-b3190f9c158a  female         True   \n",
      "1      368bf756-fcf2-4822-9612-f445d90b485b   other         True   \n",
      "2      6e3be39e-49b5-45b5-aab6-c6556de53c6f   other         True   \n",
      "3      191c62f8-2211-49fe-ba91-43556b307871  female         True   \n",
      "4      477cd8a1-3b01-4623-9318-8cd6122a8346    male         True   \n",
      "...                                     ...     ...          ...   \n",
      "99995  41000f4b-3821-4dea-90e1-9ecf591ed1c0    male        False   \n",
      "99996  507c2a45-02fa-4aa0-854a-8947a865a7ea   other         True   \n",
      "99997  4f10e845-8f75-4cd5-9f3a-3dad3e04a483  female         True   \n",
      "99998  eded01ca-79d2-4e86-a1e3-2ea1354edca7    male         True   \n",
      "99999  a37561ec-0901-4350-8a13-634f80ece55d   other         True   \n",
      "\n",
      "                job     location  loan_amount  number_of_defaults  \\\n",
      "0           Teacher   Beitbridge        39000                   0   \n",
      "1           Teacher       Harare        27000                   2   \n",
      "2             Nurse        Gweru        35000                   1   \n",
      "3            Doctor       Rusape        24000                   0   \n",
      "4             Nurse     Chipinge        19000                   0   \n",
      "...             ...          ...          ...                 ...   \n",
      "99995    Unemployed    Marondera        36000                   1   \n",
      "99996      Engineer  Chimanimani        43000                   0   \n",
      "99997  Data Analyst       Kadoma        48000                   0   \n",
      "99998      Engineer       Mutare        36000                   2   \n",
      "99999      Engineer        Gweru        46000                   0   \n",
      "\n",
      "       outstanding_balance  interest_rate  age  number_of_defaults.1  \\\n",
      "0              48653.01147           0.22   37                     0   \n",
      "1              28752.06224           0.20   43                     2   \n",
      "2              44797.55413           0.22   43                     1   \n",
      "3              35681.49641           0.23   47                     0   \n",
      "4              34156.05588           0.20   42                     0   \n",
      "...                    ...            ...  ...                   ...   \n",
      "99995          32968.21988           0.21   52                     1   \n",
      "99996          48652.55490           0.23   50                     0   \n",
      "99997          34266.22413           0.23   43                     0   \n",
      "99998          71546.02492           0.22   49                     2   \n",
      "99999          43141.10293           0.21   47                     0   \n",
      "\n",
      "      remaining term       salary marital_status  age.1      Loan Status  \\\n",
      "0                 47  3230.038869        married     37  Did not default   \n",
      "1                 62  3194.139103         single     43  Did not default   \n",
      "2                 57  3330.826656        married     43  Did not default   \n",
      "3                 42  2246.797020       divorced     47  Did not default   \n",
      "4                 45  2310.858441        married     42  Did not default   \n",
      "...              ...          ...            ...    ...              ...   \n",
      "99995             29  1803.818844         single     52  Did not default   \n",
      "99996             57  3056.127917        married     50  Did not default   \n",
      "99997             53  3535.599759        married     43  Did not default   \n",
      "99998             59  3082.407123         single     49  Did not default   \n",
      "99999             47  2670.766532        married     47  Did not default   \n",
      "\n",
      "       loan_length            province  \n",
      "0               20  Matabeleland South  \n",
      "1               48              Harare  \n",
      "2                9            Midlands  \n",
      "3               24          Manicaland  \n",
      "4               16          Manicaland  \n",
      "...            ...                 ...  \n",
      "99995           32    Mashonaland East  \n",
      "99996           12          Manicaland  \n",
      "99997           32    Mashonaland West  \n",
      "99998           34          Manicaland  \n",
      "99999           26            Midlands  \n",
      "\n",
      "[100000 rows x 18 columns]\n"
     ]
    }
   ],
   "source": [
    "#Define the mapping of locations to provinces\n",
    "location_to_province = {\n",
    "    'Beitbridge': 'Matabeleland South',\n",
    "    'Harare': 'Harare',\n",
    "    'Gweru': 'Midlands',\n",
    "    'Rusape': 'Manicaland',\n",
    "    'Chipinge': 'Manicaland',\n",
    "    'Chimanimani': 'Manicaland',\n",
    "    'Marondera': 'Mashonaland East',\n",
    "    'Kadoma': 'Mashonaland West',\n",
    "    'Mutare': 'Manicaland',\n",
    "    'Masvingo': 'Masvingo',\n",
    "    'Bulawayo': 'Bulawayo',\n",
    "    'Kariba': 'Mashonaland West',\n",
    "    'Plumtree': 'Matabeleland South',\n",
    "    'Chiredzi': 'Masvingo',\n",
    "    'Shurugwi': 'Midlands',\n",
    "    'Chivhu': 'Mashonaland East',\n",
    "    'Zvishavane': 'Midlands',\n",
    "    'Nyanga': 'Manicaland',\n",
    "    'Karoi': 'Mashonaland West',\n",
    "    'Redcliff': 'Midlands',\n",
    "    'Kwekwe': 'Midlands',\n",
    "    'Gokwe': 'Midlands',\n",
    "    'Victoria Falls': 'Matabeleland North',\n",
    "    'Hwange': 'Matabeleland North'\n",
    "}\n",
    "\n",
    "# Replace the location values with the corresponding provinces\n",
    "data['province'] = data['location'].map(location_to_province).fillna('Not_Specified')\n",
    "\n",
    "# Display the updated DataFrame\n",
    "print(data)"
   ]
  },
  {
   "cell_type": "code",
   "execution_count": 28,
   "id": "c513ef6d",
   "metadata": {},
   "outputs": [
    {
     "name": "stdout",
     "output_type": "stream",
     "text": [
      "['Matabeleland South' 'Harare' 'Midlands' 'Manicaland' 'Mashonaland East'\n",
      " 'Mashonaland West' 'Masvingo' 'Bulawayo' 'Matabeleland North'\n",
      " 'Not_Specified']\n"
     ]
    }
   ],
   "source": [
    "print(pd.unique(data['province']))"
   ]
  },
  {
   "cell_type": "markdown",
   "id": "83111cf1",
   "metadata": {},
   "source": [
    "### Drop the 'location' variable\n",
    "Since we have used the location variable to create a new variable 'province' and hence the variable is dropped. <br />"
   ]
  },
  {
   "cell_type": "code",
   "execution_count": 26,
   "id": "ed404ab3",
   "metadata": {},
   "outputs": [],
   "source": [
    "data = data.drop(data.columns[4], axis=1)"
   ]
  },
  {
   "cell_type": "code",
   "execution_count": 27,
   "id": "b5bda3de",
   "metadata": {},
   "outputs": [
    {
     "name": "stdout",
     "output_type": "stream",
     "text": [
      "                                    loan_id  gender  is_employed  \\\n",
      "0      8d05de78-ff32-46b1-aeb5-b3190f9c158a  female         True   \n",
      "1      368bf756-fcf2-4822-9612-f445d90b485b   other         True   \n",
      "2      6e3be39e-49b5-45b5-aab6-c6556de53c6f   other         True   \n",
      "3      191c62f8-2211-49fe-ba91-43556b307871  female         True   \n",
      "4      477cd8a1-3b01-4623-9318-8cd6122a8346    male         True   \n",
      "...                                     ...     ...          ...   \n",
      "99995  41000f4b-3821-4dea-90e1-9ecf591ed1c0    male        False   \n",
      "99996  507c2a45-02fa-4aa0-854a-8947a865a7ea   other         True   \n",
      "99997  4f10e845-8f75-4cd5-9f3a-3dad3e04a483  female         True   \n",
      "99998  eded01ca-79d2-4e86-a1e3-2ea1354edca7    male         True   \n",
      "99999  a37561ec-0901-4350-8a13-634f80ece55d   other         True   \n",
      "\n",
      "                job  loan_amount  number_of_defaults  outstanding_balance  \\\n",
      "0           Teacher        39000                   0          48653.01147   \n",
      "1           Teacher        27000                   2          28752.06224   \n",
      "2             Nurse        35000                   1          44797.55413   \n",
      "3            Doctor        24000                   0          35681.49641   \n",
      "4             Nurse        19000                   0          34156.05588   \n",
      "...             ...          ...                 ...                  ...   \n",
      "99995    Unemployed        36000                   1          32968.21988   \n",
      "99996      Engineer        43000                   0          48652.55490   \n",
      "99997  Data Analyst        48000                   0          34266.22413   \n",
      "99998      Engineer        36000                   2          71546.02492   \n",
      "99999      Engineer        46000                   0          43141.10293   \n",
      "\n",
      "       interest_rate  age  number_of_defaults.1 remaining term       salary  \\\n",
      "0               0.22   37                     0             47  3230.038869   \n",
      "1               0.20   43                     2             62  3194.139103   \n",
      "2               0.22   43                     1             57  3330.826656   \n",
      "3               0.23   47                     0             42  2246.797020   \n",
      "4               0.20   42                     0             45  2310.858441   \n",
      "...              ...  ...                   ...            ...          ...   \n",
      "99995           0.21   52                     1             29  1803.818844   \n",
      "99996           0.23   50                     0             57  3056.127917   \n",
      "99997           0.23   43                     0             53  3535.599759   \n",
      "99998           0.22   49                     2             59  3082.407123   \n",
      "99999           0.21   47                     0             47  2670.766532   \n",
      "\n",
      "      marital_status  age.1      Loan Status  loan_length            province  \n",
      "0            married     37  Did not default           20  Matabeleland South  \n",
      "1             single     43  Did not default           48              Harare  \n",
      "2            married     43  Did not default            9            Midlands  \n",
      "3           divorced     47  Did not default           24          Manicaland  \n",
      "4            married     42  Did not default           16          Manicaland  \n",
      "...              ...    ...              ...          ...                 ...  \n",
      "99995         single     52  Did not default           32    Mashonaland East  \n",
      "99996        married     50  Did not default           12          Manicaland  \n",
      "99997        married     43  Did not default           32    Mashonaland West  \n",
      "99998         single     49  Did not default           34          Manicaland  \n",
      "99999        married     47  Did not default           26            Midlands  \n",
      "\n",
      "[100000 rows x 17 columns]\n"
     ]
    }
   ],
   "source": [
    "# Display the updated DataFrame\n",
    "print(data)"
   ]
  },
  {
   "cell_type": "code",
   "execution_count": null,
   "id": "0c044505",
   "metadata": {},
   "outputs": [],
   "source": []
  },
  {
   "cell_type": "code",
   "execution_count": null,
   "id": "860a8cab",
   "metadata": {},
   "outputs": [],
   "source": []
  },
  {
   "cell_type": "code",
   "execution_count": null,
   "id": "314cee23",
   "metadata": {},
   "outputs": [],
   "source": []
  },
  {
   "cell_type": "code",
   "execution_count": null,
   "id": "d96f24b9",
   "metadata": {},
   "outputs": [],
   "source": []
  },
  {
   "cell_type": "code",
   "execution_count": 12,
   "id": "be3d78ac",
   "metadata": {},
   "outputs": [],
   "source": [
    "\n",
    "#Missing values\n",
    "#List the float variables with missing data\n",
    "\n",
    "float_variables = ['outstanding_balance', 'interest_rate', 'salary']\n",
    "\n",
    "# Performing the mean imputation for each float variable\n",
    "for variable in float_variables:\n",
    "    mean_value = data[variable].mean()\n",
    "    data[variable] = data[variable].fillna(mean_value)\n",
    "    \n",
    "# This approach calculates the mean of the non-missing values in the float variable.\n",
    "# Replace the missing values with the calculated mean or median.\n",
    "# This approach assumes that the missing values are missing at random and can be reasonably approximated by the \n",
    "# central tendency of the observed data.\n",
    "# Replacing missing values with the mean or median helps preserve the overall distribution of the variable, \n",
    "# as the imputed values are based on the observed data.\n",
    "# This can be important for maintaining the statistical properties of the variable, such as its central tendency\n",
    "# and spread, which may be important for certain types of analysis or modeling."
   ]
  },
  {
   "cell_type": "code",
   "execution_count": null,
   "id": "7e830475",
   "metadata": {},
   "outputs": [],
   "source": []
  },
  {
   "cell_type": "code",
   "execution_count": null,
   "id": "bed44116",
   "metadata": {},
   "outputs": [],
   "source": []
  },
  {
   "cell_type": "code",
   "execution_count": null,
   "id": "3ac3b018",
   "metadata": {},
   "outputs": [],
   "source": []
  },
  {
   "cell_type": "code",
   "execution_count": null,
   "id": "4a1e9da7",
   "metadata": {},
   "outputs": [],
   "source": []
  },
  {
   "cell_type": "code",
   "execution_count": null,
   "id": "f4f10fcd",
   "metadata": {},
   "outputs": [],
   "source": []
  },
  {
   "cell_type": "code",
   "execution_count": null,
   "id": "aa561618",
   "metadata": {},
   "outputs": [],
   "source": []
  },
  {
   "cell_type": "code",
   "execution_count": null,
   "id": "24ba126b",
   "metadata": {},
   "outputs": [],
   "source": []
  },
  {
   "cell_type": "code",
   "execution_count": null,
   "id": "96f86d51",
   "metadata": {},
   "outputs": [],
   "source": []
  },
  {
   "cell_type": "code",
   "execution_count": null,
   "id": "ec68a93f",
   "metadata": {},
   "outputs": [],
   "source": []
  },
  {
   "cell_type": "code",
   "execution_count": null,
   "id": "c7841592",
   "metadata": {},
   "outputs": [],
   "source": []
  },
  {
   "cell_type": "code",
   "execution_count": 18,
   "id": "cb9aa01a",
   "metadata": {},
   "outputs": [
    {
     "name": "stdout",
     "output_type": "stream",
     "text": [
      "['Beitbridge' 'Harare' 'Gweru' 'Rusape' 'Chipinge' 'Chimanimani'\n",
      " 'Marondera' 'Kadoma' 'Mutare' 'Masvingo' 'Bulawayo' 'Kariba' 'Plumtree'\n",
      " 'Chiredzi' 'Shurugwi' 'Chivhu' 'Zvishavane' 'Nyanga' 'Karoi' 'Redcliff'\n",
      " 'Kwekwe' ' Karoi ' 'Gokwe' 'Victoria Falls' ' Masvingo ' '   Chipinge   '\n",
      " ' Mutare ' nan '   Mutare ' ' Marondera   ' '   Rusape   ' ' Bulawayo   '\n",
      " 'Chivhu ' ' Chimanimani   ' 'Plumtree   ' '   Masvingo   ' '   Gweru '\n",
      " '   Chivhu   ' 'Mutare   ' ' Kwekwe ' 'Marondera   ' ' Chipinge   '\n",
      " '   Mutare   ' '   Karoi   ' ' Beitbridge   ' '   Karoi ' ' Beitbridge '\n",
      " ' Mutare   ' '   Bulawayo ' 'Masvingo   ' ' Kadoma   ' ' Plumtree '\n",
      " 'Marondera ' '   Plumtree ' ' Chipinge ' '   Harare ' 'Harare   '\n",
      " ' Nyanga   ' ' Gweru   ' 'Rusape   ' 'Masvingo ' '   Harare   '\n",
      " ' Kadoma ' 'Bulawayo   ' ' Kwekwe   ' 'Hwange' ' Harare '\n",
      " '   Marondera   ' 'Chipinge   ' '   Marondera ' '   Beitbridge '\n",
      " 'Karoi   ' 'Chimanimani ' ' Bulawayo ' 'Chivhu   ' 'Kwekwe ' ' Kariba   '\n",
      " ' Marondera ' 'Plumtree ' '   Bulawayo   ' 'Karoi ' ' Chivhu   '\n",
      " '   Nyanga ' '   Chipinge ' ' Rusape   ' '   Beitbridge   ' ' Harare   '\n",
      " ' Chivhu ' ' Gweru ' ' Kariba ' 'Harare ' ' Chimanimani ' 'Beitbridge   '\n",
      " '   Chivhu ' '   Gweru   ' 'Chiredzi ' ' Masvingo   ' ' Zvishavane '\n",
      " 'Mutare ' '   Chiredzi ' 'Gweru ' 'Gweru   ' ' Plumtree   ' 'Chiredzi   '\n",
      " ' Chiredzi ' 'Chipinge ' ' Rusape ' '   Plumtree   ' '   Kadoma   '\n",
      " 'Rusape ' ' Zvishavane   ' '   Masvingo ' 'Nyanga   ' '   Kwekwe   '\n",
      " 'Chimanimani   ' ' Chiredzi   ' ' Karoi   ' 'Shurugwi ' 'Gokwe '\n",
      " 'Zvishavane   ' '   Chimanimani ' '   Gokwe ' 'Bulawayo ' '   Shurugwi '\n",
      " '   Zvishavane   ' 'Beitbridge ' '   Chimanimani   ' ' Redcliff '\n",
      " 'Kadoma   ' 'Kwekwe   ' ' Gokwe ' '   Kadoma ' '   Kwekwe '\n",
      " '   Shurugwi   ' '   Nyanga   ' 'Zvishavane ' 'Kariba ' ' Shurugwi   '\n",
      " ' Shurugwi ' '   Rusape ' '   Chiredzi   ' '   Redcliff   '\n",
      " '   Kariba   ' 'Victoria Falls   ' 'Shurugwi   ' ' Nyanga '\n",
      " 'Victoria Falls ' '   Gokwe   ' 'Kariba   ' ' Victoria Falls '\n",
      " '   Victoria Falls ' 'Nyanga ' 'Kadoma ' ' Gokwe   ' '   Kariba '\n",
      " '   Zvishavane ' ' Victoria Falls   ' 'Gokwe   ']\n"
     ]
    }
   ],
   "source": [
    "#Missing values on the object data types\n",
    "#Country\n",
    "\n",
    "# This replacement was done in relation to the location, it was found that the loacations pf these missing 'couyntry' variables\n",
    "# were all in Zimbabwe, hence replaced as Zimbabwe\n",
    "\n",
    "# View the unique locations\n",
    "print(data['location'].unique())"
   ]
  },
  {
   "cell_type": "code",
   "execution_count": 19,
   "id": "0ed95997",
   "metadata": {},
   "outputs": [
    {
     "name": "stdout",
     "output_type": "stream",
     "text": [
      "['Beitbridge' 'Harare' 'Gweru' 'Rusape' 'Chipinge' 'Chimanimani'\n",
      " 'Marondera' 'Kadoma' 'Mutare' 'Masvingo' 'Bulawayo' 'Kariba' 'Plumtree'\n",
      " 'Chiredzi' 'Shurugwi' 'Chivhu' 'Zvishavane' 'Nyanga' 'Karoi' 'Redcliff'\n",
      " 'Kwekwe' 'Gokwe' 'Victoria Falls' nan 'Hwange']\n"
     ]
    }
   ],
   "source": [
    "# Remove leading/trailing spaces on the response variables\n",
    "#These leading spaces affect the uniquness of my responses in my location variable\n",
    "\n",
    "# Remove leading/trailing spaces\n",
    "data['location'] = data['location'].str.strip()\n",
    "\n",
    "# View the unique locations\n",
    "print(pd.unique(data['location']))\n",
    "\n",
    "#The location variable also has blanks labelled 'nan'"
   ]
  },
  {
   "cell_type": "code",
   "execution_count": 20,
   "id": "66f66b97",
   "metadata": {},
   "outputs": [],
   "source": [
    "# Replace missing 'country' values with 'Zimbabwe' if the 'location' is in Zimbabwe\n",
    "data['country'] = data.loc[data['location'].isin(['Beitbridge', 'Harare', 'Gweru', 'Rusape', 'Chipinge', 'Chimanimani',\n",
    " 'Marondera', 'Kadoma', 'Mutare', 'Masvingo', 'Bulawayo', 'Kariba', 'Plumtree',\n",
    " 'Chiredzi', 'Shurugwi', 'Chivhu', 'Zvishavane', 'Nyanga', 'Karoi', 'Redcliff',\n",
    " 'Kwekwe', 'Gokwe', 'Victoria Falls', 'Hwange']), 'country'].fillna('Zimbabwe')"
   ]
  },
  {
   "cell_type": "code",
   "execution_count": 21,
   "id": "8b25815f",
   "metadata": {},
   "outputs": [
    {
     "name": "stdout",
     "output_type": "stream",
     "text": [
      "['Zimbabwe' 'zimbabwe' 'Zim' nan]\n"
     ]
    }
   ],
   "source": [
    "#The country varible has been replaced with the respective coutry name using location\n",
    "#View this country variable\n",
    "# View the unique locations\n",
    "print(pd.unique(data['country']))"
   ]
  },
  {
   "cell_type": "code",
   "execution_count": 23,
   "id": "7cd2db85",
   "metadata": {},
   "outputs": [
    {
     "name": "stdout",
     "output_type": "stream",
     "text": [
      "['Zimbabwe' 'zimbabwe' 'Zim']\n"
     ]
    }
   ],
   "source": [
    "#We still the 'nan' in the data , hence have made the following assumption\n",
    "# Assume that all the clients in the portfolio are from Zimbabwe\n",
    "# Replacing the 'nan' value with Zimbabwe\n",
    "data['country'] = data['country'].fillna('Zimbabwe')\n",
    "print(pd.unique(data['country']))"
   ]
  },
  {
   "cell_type": "code",
   "execution_count": 25,
   "id": "64922e3e",
   "metadata": {},
   "outputs": [
    {
     "name": "stdout",
     "output_type": "stream",
     "text": [
      "['Zimbabwe']\n"
     ]
    }
   ],
   "source": [
    "# Standardize the country and location values to \"Zimbabwe\"\n",
    "\n",
    "data['country'] = data['country'].str.capitalize()\n",
    "data['country'] = data['country'].replace(['Zimbabwe', 'Zim'], 'Zimbabwe')\n",
    "\n",
    "print(pd.unique(data['country']))"
   ]
  },
  {
   "cell_type": "code",
   "execution_count": 26,
   "id": "94eb3a75",
   "metadata": {},
   "outputs": [
    {
     "name": "stdout",
     "output_type": "stream",
     "text": [
      "['Beitbridge' 'Harare' 'Gweru' 'Rusape' 'Chipinge' 'Chimanimani'\n",
      " 'Marondera' 'Kadoma' 'Mutare' 'Masvingo' 'Bulawayo' 'Kariba' 'Plumtree'\n",
      " 'Chiredzi' 'Shurugwi' 'Chivhu' 'Zvishavane' 'Nyanga' 'Karoi' 'Redcliff'\n",
      " 'Kwekwe' 'Gokwe' 'Victoria Falls' nan 'Hwange']\n"
     ]
    }
   ],
   "source": [
    "#Location\n",
    "# View the unique locations\n",
    "print(pd.unique(data['location']))"
   ]
  },
  {
   "cell_type": "code",
   "execution_count": 27,
   "id": "2b2eadfb",
   "metadata": {},
   "outputs": [],
   "source": [
    "#The location variable has missing values as blanks\n",
    "#Hence the variable is dropped because it is better to drop the column 'location' than to drop the entire rows affected\n",
    "# by missing 'location' values which would reduce sample size of the data as we require large amounts of data for our\n",
    "# training and testing for a better performning model.\n",
    "# Drop the 'location' data\n",
    "\n",
    "data = data.drop('location', axis=1)  "
   ]
  },
  {
   "cell_type": "code",
   "execution_count": null,
   "id": "14598602",
   "metadata": {},
   "outputs": [],
   "source": []
  },
  {
   "cell_type": "code",
   "execution_count": null,
   "id": "51e147e7",
   "metadata": {},
   "outputs": [],
   "source": []
  },
  {
   "cell_type": "code",
   "execution_count": null,
   "id": "4389d6cd",
   "metadata": {},
   "outputs": [],
   "source": []
  },
  {
   "cell_type": "code",
   "execution_count": null,
   "id": "d88c562a",
   "metadata": {},
   "outputs": [],
   "source": []
  },
  {
   "cell_type": "code",
   "execution_count": null,
   "id": "7799b99c",
   "metadata": {},
   "outputs": [],
   "source": []
  },
  {
   "cell_type": "code",
   "execution_count": 13,
   "id": "6fc9adf3",
   "metadata": {},
   "outputs": [
    {
     "name": "stdout",
     "output_type": "stream",
     "text": [
      "<class 'pandas.core.frame.DataFrame'>\n",
      "RangeIndex: 100000 entries, 0 to 99999\n",
      "Data columns (total 21 columns):\n",
      " #   Column                Non-Null Count   Dtype  \n",
      "---  ------                --------------   -----  \n",
      " 0   Unnamed: 0            100000 non-null  int64  \n",
      " 1   loan_id               100000 non-null  object \n",
      " 2   gender                100000 non-null  object \n",
      " 3   disbursemet_date      100000 non-null  object \n",
      " 4   currency              100000 non-null  object \n",
      " 5   country               99900 non-null   object \n",
      " 6   sex                   100000 non-null  object \n",
      " 7   is_employed           100000 non-null  bool   \n",
      " 8   job                   95864 non-null   object \n",
      " 9   location              99405 non-null   object \n",
      " 10  loan_amount           100000 non-null  int64  \n",
      " 11  number_of_defaults    100000 non-null  int64  \n",
      " 12  outstanding_balance   100000 non-null  float64\n",
      " 13  interest_rate         100000 non-null  float64\n",
      " 14  age                   100000 non-null  int64  \n",
      " 15  number_of_defaults.1  100000 non-null  int64  \n",
      " 16  remaining term        100000 non-null  object \n",
      " 17  salary                100000 non-null  float64\n",
      " 18  marital_status        100000 non-null  object \n",
      " 19  age.1                 100000 non-null  int64  \n",
      " 20  Loan Status           100000 non-null  object \n",
      "dtypes: bool(1), float64(3), int64(6), object(11)\n",
      "memory usage: 15.4+ MB\n"
     ]
    }
   ],
   "source": [
    "#View the new data with replaced values\n",
    "data.info()\n"
   ]
  },
  {
   "cell_type": "code",
   "execution_count": null,
   "id": "72a74c43",
   "metadata": {},
   "outputs": [],
   "source": []
  }
 ],
 "metadata": {
  "kernelspec": {
   "display_name": "Python 3 (ipykernel)",
   "language": "python",
   "name": "python3"
  },
  "language_info": {
   "codemirror_mode": {
    "name": "ipython",
    "version": 3
   },
   "file_extension": ".py",
   "mimetype": "text/x-python",
   "name": "python",
   "nbconvert_exporter": "python",
   "pygments_lexer": "ipython3",
   "version": "3.11.4"
  }
 },
 "nbformat": 4,
 "nbformat_minor": 5
}
